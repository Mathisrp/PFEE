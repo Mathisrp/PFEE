{
 "cells": [
  {
   "cell_type": "code",
   "execution_count": null,
   "id": "287f515c",
   "metadata": {},
   "outputs": [],
   "source": [
    "import nibabel as nib\n",
    "import numpy as np\n",
    "import os\n",
    "import sys"
   ]
  },
  {
   "cell_type": "code",
   "execution_count": null,
   "id": "74bd5398",
   "metadata": {},
   "outputs": [],
   "source": [
    "directory = \"./data/\""
   ]
  }
 ],
 "metadata": {
  "language_info": {
   "name": "python"
  }
 },
 "nbformat": 4,
 "nbformat_minor": 5
}
